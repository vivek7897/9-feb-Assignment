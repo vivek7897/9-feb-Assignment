{
 "cells": [
  {
   "cell_type": "code",
   "execution_count": null,
   "id": "93e6cce0-26c1-4d6c-89ea-5eb466b5cdab",
   "metadata": {},
   "outputs": [],
   "source": [
    " Q1= Create a vehicle class with an init method having instance variables as name_of_vehicle, max_speed\n",
    "and average_of_vehicle."
   ]
  },
  {
   "cell_type": "code",
   "execution_count": null,
   "id": "e396bdf8-be3f-431b-b775-f503b137e1ce",
   "metadata": {},
   "outputs": [],
   "source": [
    "class car():\n",
    "    \n",
    "    def _init_(self,make,model,year,colour):\n",
    "        self.make=make\n",
    "        self.model=model\n",
    "        self.year=year\n",
    "        self.colour=colour\n",
    "        \n",
    "        \n",
    "    def outputvalues(self):\n",
    "        vals = (self.make,self.model,self.year,self.colour)\n",
    "        return vals\n",
    "    \n",
    "    \n",
    "mycar = Car(\"BMW\",\"X5\",2020,\"Black\")\n",
    "print(mycar.outputvalues())"
   ]
  },
  {
   "cell_type": "code",
   "execution_count": null,
   "id": "2867839f-b3c9-443f-a893-8b9309d57515",
   "metadata": {},
   "outputs": [],
   "source": [
    "Q2. Create a child class car from the vehicle class created in Que 1, which will inherit the vehicle class.\n",
    "Create a method named seating_capacity which takes capacity as an argument and returns the name of\n",
    "the vehicle and its seating capacity."
   ]
  },
  {
   "cell_type": "code",
   "execution_count": null,
   "id": "ec0added-c5ed-4f1d-958d-d875afbd6bcc",
   "metadata": {},
   "outputs": [],
   "source": [
    "class car():\n",
    "    \n",
    "    def _init_(self,make,model,year,colour):\n",
    "        self.make=make\n",
    "        self.model=model\n",
    "        self.year=year\n",
    "        self.colour=colour\n",
    "        \n",
    "        \n",
    "    def outputvalues(self):\n",
    "        vals = (self.make,self.model,self.year,self.colour)\n",
    "        return vals\n",
    "    \n",
    "    \n",
    "mycar = Car(\"BMW\",\"X5\",2020,\"Black\")\n",
    "print(mycar.outputvalues())"
   ]
  },
  {
   "cell_type": "code",
   "execution_count": null,
   "id": "13a747f7-b4f7-4a1b-8eeb-658e2c1f34b2",
   "metadata": {},
   "outputs": [],
   "source": [
    "Q3. What is multiple inheritance? Write a python code to demonstrate multiple inheritance."
   ]
  },
  {
   "cell_type": "code",
   "execution_count": null,
   "id": "41778e90-231b-4472-baff-8bc78d147833",
   "metadata": {},
   "outputs": [],
   "source": [
    "Multiple inheritance is a feature of object-oriented programming where a subclass can inherit from multiple parent classes.\n",
    "This allows the subclass to inherit the attributes and methods of all the parent classes."
   ]
  },
  {
   "cell_type": "code",
   "execution_count": null,
   "id": "6c549395-d21e-4325-aa50-30163e07f984",
   "metadata": {},
   "outputs": [],
   "source": [
    "class Vehicle:\n",
    "    def __init__(self, brand, model):\n",
    "        self.brand = brand\n",
    "        self.model = model\n",
    "    \n",
    "    def get_info(self):\n",
    "        return f\"{self.brand} {self.model}\"\n",
    "\n",
    "class Engine:\n",
    "    def __init__(self, horsepower):\n",
    "        self.horsepower = horsepower\n",
    "    \n",
    "    def get_power(self):\n",
    "        return f\"{self.horsepower} horsepower\"\n",
    "\n",
    "class Car(Vehicle, Engine):\n",
    "    def __init__(self, brand, model, horsepower):\n",
    "        Vehicle.__init__(self, brand, model)\n",
    "        Engine.__init__(self, horsepower)\n",
    "\n",
    "my_car = Car(\"Toyota\", \"Corolla\", 140)\n",
    "print(my_car.get_info())    \n",
    "print(my_car.get_power())   \n"
   ]
  },
  {
   "cell_type": "code",
   "execution_count": null,
   "id": "e5edb050-62be-43d8-bd0a-0e6002ae739a",
   "metadata": {},
   "outputs": [],
   "source": [
    "Q4. What are getter and setter in python? Create a class and create a getter and a setter method in this\n",
    "class."
   ]
  },
  {
   "cell_type": "code",
   "execution_count": null,
   "id": "db5dd37a-33d5-4ac7-bd9a-2015b7c827a7",
   "metadata": {},
   "outputs": [],
   "source": [
    "In Python, getters and setters are used to retrieve and set the values of class attributes, resp\n",
    "The getter and setter methods provide a level of indirection that \n",
    "can help to protect the attributes from being modified by unauthorized code."
   ]
  },
  {
   "cell_type": "code",
   "execution_count": null,
   "id": "50d7b95e-7bb8-4db1-a0bb-6640aa359bbb",
   "metadata": {},
   "outputs": [],
   "source": [
    "#example of a class with a getter and a setter method in Python:\n",
    "class Person:\n",
    "    def __init__(self, name, age):\n",
    "        self._name = name\n",
    "        self._age = age\n",
    "\n",
    "    def get_name(self):\n",
    "        return self._name\n",
    "\n",
    "    def set_name(self, name):\n",
    "        self._name = name\n",
    "\n",
    "    def get_age(self):\n",
    "        return self._age\n",
    "\n",
    "    def set_age(self, age):\n",
    "        if age < 0:\n",
    "            raise ValueError(\"Age cannot be negative\")\n",
    "        self._age = age\n"
   ]
  },
  {
   "cell_type": "code",
   "execution_count": null,
   "id": "bf4ca8e4-2ba9-4163-8c7e-f51c8cc5ac82",
   "metadata": {},
   "outputs": [],
   "source": [
    "person = Person(\"Alice\", 30)\n",
    "print(person.get_name())   \n",
    "person.set_name(\"Bob\")\n",
    "print(person.get_name())  \n",
    "print(person.get_age())    \n",
    "person.set_age(-10)        \n",
    "person.set_age(40)\n",
    "print(person.get_age())    \n"
   ]
  },
  {
   "cell_type": "code",
   "execution_count": null,
   "id": "d3f77437-5d1b-4b9a-a08d-7d4af151ab02",
   "metadata": {},
   "outputs": [],
   "source": [
    "Q5.What is method overriding in python? Write a python code to demonstrate method overriding."
   ]
  }
 ],
 "metadata": {
  "kernelspec": {
   "display_name": "Python 3 (ipykernel)",
   "language": "python",
   "name": "python3"
  },
  "language_info": {
   "codemirror_mode": {
    "name": "ipython",
    "version": 3
   },
   "file_extension": ".py",
   "mimetype": "text/x-python",
   "name": "python",
   "nbconvert_exporter": "python",
   "pygments_lexer": "ipython3",
   "version": "3.10.8"
  }
 },
 "nbformat": 4,
 "nbformat_minor": 5
}
